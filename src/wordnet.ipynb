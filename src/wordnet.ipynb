{
 "cells": [
  {
   "cell_type": "code",
   "execution_count": null,
   "metadata": {},
   "outputs": [],
   "source": [
    "# https://www.kaggle.com/shubh24/wordnet-similarity-matrix-a-naive-implementation"
   ]
  },
  {
   "cell_type": "code",
   "execution_count": 8,
   "metadata": {},
   "outputs": [],
   "source": [
    "import pandas as pd\n",
    "\n",
    "from nltk.corpus import wordnet as wn\n",
    "\n",
    "from nltk.corpus import stopwords\n",
    "stop = set(stopwords.words('english'))\n",
    "\n",
    "df_train = pd.read_csv('data/train.csv')"
   ]
  },
  {
   "cell_type": "code",
   "execution_count": 9,
   "metadata": {},
   "outputs": [],
   "source": [
    "def get_terms(sentence):\n",
    "    return [i for i in sentence.lower().split() if i not in stop]"
   ]
  },
  {
   "cell_type": "code",
   "execution_count": 10,
   "metadata": {},
   "outputs": [],
   "source": [
    "row = df_train.iloc[0] #Just taking the first row, you can put a loopover \n",
    "\n",
    "res = row[\"is_duplicate\"]\n",
    "terms1 = get_terms(row[\"question1\"])\n",
    "terms2 = get_terms(row[\"question2\"])\n",
    "\n",
    "sims = []"
   ]
  },
  {
   "cell_type": "code",
   "execution_count": 11,
   "metadata": {},
   "outputs": [],
   "source": [
    "for word1 in terms1:\n",
    "    word1_sim = []\n",
    "\n",
    "    try:\n",
    "        syn1 = wn.synsets(word1)[0]\n",
    "    except:  #if wordnet is not able to find a synset for word1\n",
    "        sims.append([0 for i in range(0, len(terms2))])\n",
    "        continue\n",
    "\n",
    "\n",
    "    for word2 in terms2:\n",
    "        try:\n",
    "            syn2 = wn.synsets(word2)[0]\n",
    "        except: #if wordnet is not able to find a synset for word2\n",
    "            word1_sim.append(0)\n",
    "            continue\n",
    "\n",
    "        word_similarity = syn1.wup_similarity(syn2)\n",
    "        word1_sim.append(word_similarity)\n",
    "\n",
    "    sims.append(word1_sim)"
   ]
  },
  {
   "cell_type": "code",
   "execution_count": 12,
   "metadata": {},
   "outputs": [],
   "source": [
    "word1_score = 0\n",
    "for i in range(0, len(terms1), 1):\n",
    "    try:\n",
    "        word1_score += max(sims[i])\n",
    "    except:\n",
    "        continue\n",
    "word1_score /= len(terms1) #Averaging over all terms"
   ]
  },
  {
   "cell_type": "code",
   "execution_count": 13,
   "metadata": {},
   "outputs": [],
   "source": [
    "word2_score = 0\n",
    "\n",
    "for i in range(0, len(terms2), 1):\n",
    "    try:\n",
    "        word2_score += max([j[i] for j in sims])\n",
    "    except:\n",
    "        continue\n",
    "word2_score /= len(terms2)"
   ]
  },
  {
   "cell_type": "code",
   "execution_count": 15,
   "metadata": {},
   "outputs": [
    {
     "data": {
      "text/plain": [
       "0.40476190476190477"
      ]
     },
     "execution_count": 15,
     "metadata": {},
     "output_type": "execute_result"
    }
   ],
   "source": [
    "pair_score = (word1_score + word2_score)/2\n",
    "pair_score"
   ]
  }
 ],
 "metadata": {
  "kernelspec": {
   "display_name": "Python 3",
   "language": "python",
   "name": "python3"
  },
  "language_info": {
   "codemirror_mode": {
    "name": "ipython",
    "version": 3
   },
   "file_extension": ".py",
   "mimetype": "text/x-python",
   "name": "python",
   "nbconvert_exporter": "python",
   "pygments_lexer": "ipython3",
   "version": "3.7.2"
  }
 },
 "nbformat": 4,
 "nbformat_minor": 2
}
